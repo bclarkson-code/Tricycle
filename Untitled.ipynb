{
 "cells": [
  {
   "cell_type": "code",
   "execution_count": 1,
   "id": "a7f40ac4-239e-492f-bb3b-70329bbcdd6e",
   "metadata": {},
   "outputs": [
    {
     "name": "stdout",
     "output_type": "stream",
     "text": [
      "Collecting torch\n",
      "  Downloading torch-2.1.2-cp311-none-macosx_11_0_arm64.whl.metadata (25 kB)\n",
      "Requirement already satisfied: filelock in ./.venv/lib/python3.11/site-packages (from torch) (3.13.1)\n",
      "Collecting typing-extensions (from torch)\n",
      "  Using cached typing_extensions-4.9.0-py3-none-any.whl.metadata (3.0 kB)\n",
      "Collecting sympy (from torch)\n",
      "  Downloading sympy-1.12-py3-none-any.whl (5.7 MB)\n",
      "\u001b[2K     \u001b[38;2;114;156;31m━━━━━━━━━━━━━━━━━━━━━━━━━━━━━━━━━━━━━━━━\u001b[0m \u001b[32m5.7/5.7 MB\u001b[0m \u001b[31m6.5 MB/s\u001b[0m eta \u001b[36m0:00:00\u001b[0m[31m6.6 MB/s\u001b[0m eta \u001b[36m0:00:01\u001b[0m\n",
      "\u001b[?25hRequirement already satisfied: networkx in ./.venv/lib/python3.11/site-packages (from torch) (3.2.1)\n",
      "Requirement already satisfied: jinja2 in ./.venv/lib/python3.11/site-packages (from torch) (3.1.3)\n",
      "Collecting fsspec (from torch)\n",
      "  Downloading fsspec-2023.12.2-py3-none-any.whl.metadata (6.8 kB)\n",
      "Requirement already satisfied: MarkupSafe>=2.0 in ./.venv/lib/python3.11/site-packages (from jinja2->torch) (2.1.4)\n",
      "Collecting mpmath>=0.19 (from sympy->torch)\n",
      "  Downloading mpmath-1.3.0-py3-none-any.whl (536 kB)\n",
      "\u001b[2K     \u001b[38;2;114;156;31m━━━━━━━━━━━━━━━━━━━━━━━━━━━━━━━━━━━━━━━\u001b[0m \u001b[32m536.2/536.2 kB\u001b[0m \u001b[31m5.6 MB/s\u001b[0m eta \u001b[36m0:00:00\u001b[0m MB/s\u001b[0m eta \u001b[36m0:00:01\u001b[0m:01\u001b[0m\n",
      "\u001b[?25hDownloading torch-2.1.2-cp311-none-macosx_11_0_arm64.whl (59.6 MB)\n",
      "\u001b[2K   \u001b[38;2;114;156;31m━━━━━━━━━━━━━━━━━━━━━━━━━━━━━━━━━━━━━━━━\u001b[0m \u001b[32m59.6/59.6 MB\u001b[0m \u001b[31m9.1 MB/s\u001b[0m eta \u001b[36m0:00:00\u001b[0mm eta \u001b[36m0:00:01\u001b[0m[36m0:00:01\u001b[0m\n",
      "\u001b[?25hDownloading fsspec-2023.12.2-py3-none-any.whl (168 kB)\n",
      "\u001b[2K   \u001b[38;2;114;156;31m━━━━━━━━━━━━━━━━━━━━━━━━━━━━━━━━━━━━━━━━\u001b[0m \u001b[32m169.0/169.0 kB\u001b[0m \u001b[31m4.5 MB/s\u001b[0m eta \u001b[36m0:00:00\u001b[0m[31m7.2 MB/s\u001b[0m eta \u001b[36m0:00:01\u001b[0m\n",
      "\u001b[?25hUsing cached typing_extensions-4.9.0-py3-none-any.whl (32 kB)\n",
      "Installing collected packages: mpmath, typing-extensions, sympy, fsspec, torch\n",
      "Successfully installed fsspec-2023.12.2 mpmath-1.3.0 sympy-1.12 torch-2.1.2 typing-extensions-4.9.0\n"
     ]
    }
   ],
   "source": [
    "!pip install torch"
   ]
  },
  {
   "cell_type": "code",
   "execution_count": 6,
   "id": "9b321be2-1609-4b33-b222-ff27d797e362",
   "metadata": {},
   "outputs": [],
   "source": [
    "import torch\n",
    "from matplotlib import pyplot as plt"
   ]
  },
  {
   "cell_type": "code",
   "execution_count": 7,
   "id": "1362e82b-573a-4567-b526-fd47732910f1",
   "metadata": {},
   "outputs": [],
   "source": [
    "block_size = 32\n",
    "bias = torch.tril(\n",
    "    torch.ones(\n",
    "        block_size, \n",
    "        block_size\n",
    "    )\n",
    ").view(1, 1, block_size, block_size)"
   ]
  },
  {
   "cell_type": "code",
   "execution_count": 14,
   "id": "07c3b347-8401-4e11-8613-9f1cd36b7f0b",
   "metadata": {},
   "outputs": [
    {
     "data": {
      "text/plain": [
       "tensor([[[[0., -inf, -inf,  ..., -inf, -inf, -inf],\n",
       "          [0., 0., -inf,  ..., -inf, -inf, -inf],\n",
       "          [0., 0., 0.,  ..., -inf, -inf, -inf],\n",
       "          ...,\n",
       "          [0., 0., 0.,  ..., 0., -inf, -inf],\n",
       "          [0., 0., 0.,  ..., 0., 0., -inf],\n",
       "          [0., 0., 0.,  ..., 0., 0., 0.]]]])"
      ]
     },
     "execution_count": 14,
     "metadata": {},
     "output_type": "execute_result"
    }
   ],
   "source": [
    "seq_len = 24\n",
    "att = torch.zeros(1, 1, block_size, block_size)\n",
    "att = att.masked_fill(bias[:,:,:block_size,:block_size] == 0, float('-inf'))"
   ]
  },
  {
   "cell_type": "code",
   "execution_count": 37,
   "id": "773fd40d-68cb-409f-8ed5-5d2c7af58b3e",
   "metadata": {},
   "outputs": [
    {
     "data": {
      "text/plain": [
       "torch.Size([1, 2, 16, 4])"
      ]
     },
     "execution_count": 37,
     "metadata": {},
     "output_type": "execute_result"
    }
   ],
   "source": [
    "\n",
    "\n",
    "k = torch.rand(1,128)\n",
    "k = k.view(batch_size, sequence_length, n_head, embedding_dimension // n_head).transpose(1, 2)\n",
    "k.shape"
   ]
  },
  {
   "cell_type": "code",
   "execution_count": null,
   "id": "3801858e-6fa3-4952-b801-2128031ff89b",
   "metadata": {},
   "outputs": [],
   "source": []
  },
  {
   "cell_type": "code",
   "execution_count": 28,
   "id": "143d0cd3-06ad-4ecc-b28e-76ec5ca75a8e",
   "metadata": {},
   "outputs": [],
   "source": [
    "torch.manual_seed(0)\n",
    "\n",
    "batch_size = 1\n",
    "sequence_length = 16\n",
    "embedding_dimension = 8\n",
    "n_head = 2\n",
    "\n",
    "q = torch.rand(1,128)\n",
    "k = torch.rand(1,128)\n",
    "v = torch.rand(1,128)\n",
    "\n",
    "y_correct = torch.nn.functional.scaled_dot_product_attention(\n",
    "    q, \n",
    "    k, \n",
    "    v, \n",
    "    # attn_mask=None, \n",
    "    # dropout_p=self.dropout\n",
    "    is_causal=True)"
   ]
  },
  {
   "cell_type": "code",
   "execution_count": null,
   "id": "ac2c9979-64a8-44ce-a16a-40250459ab6e",
   "metadata": {},
   "outputs": [],
   "source": [
    "from tricycle.ops import einsum, softmax\n",
    "from tricycle.binary  import bmul\n",
    "\n"
   ]
  },
  {
   "cell_type": "code",
   "execution_count": 16,
   "id": "7954019d-606c-4776-b3c5-33f71b60e0de",
   "metadata": {},
   "outputs": [
    {
     "data": {
      "text/plain": [
       "<matplotlib.image.AxesImage at 0x1776582d0>"
      ]
     },
     "execution_count": 16,
     "metadata": {},
     "output_type": "execute_result"
    },
    {
     "data": {
      "image/png": "[encoded data removed]",
      "text/plain": [
       "<Figure size 640x480 with 1 Axes>"
      ]
     },
     "metadata": {},
     "output_type": "display_data"
    }
   ],
   "source": [
    "plt.imshow(att.squeeze())"
   ]
  },
  {
   "cell_type": "code",
   "execution_count": null,
   "id": "9732410c-2b8b-4b77-8058-0a6fb8af4b8b",
   "metadata": {},
   "outputs": [],
   "source": []
  }
 ],
 "metadata": {
  "kernelspec": {
   "display_name": "Python 3 (ipykernel)",
   "language": "python",
   "name": "python3"
  },
  "language_info": {
   "codemirror_mode": {
    "name": "ipython",
    "version": 3
   },
   "file_extension": ".py",
   "mimetype": "text/x-python",
   "name": "python",
   "nbconvert_exporter": "python",
   "pygments_lexer": "ipython3",
   "version": "3.11.6"
  }
 },
 "nbformat": 4,
 "nbformat_minor": 5
}
