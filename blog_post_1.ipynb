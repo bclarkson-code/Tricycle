{
 "cells": [
  {
   "cell_type": "code",
   "execution_count": 136,
   "id": "06b6dc4f-05fb-4bed-9ad4-cda649f24d6f",
   "metadata": {},
   "outputs": [],
   "source": [
    "from typing import Optional"
   ]
  },
  {
   "cell_type": "markdown",
   "id": "477924ef-6dfc-43c2-881a-2f69167e1920",
   "metadata": {},
   "source": [
    "## Creating a tensor \n",
    "We can't do any differentiation if we don't have any numbers to differentiate, so first we need to create an object that we can apply operations to. We'll want to include some special behaviour for these numbers so we can't just use a python builtin like a `float`. Instead, we'll create an object which we'll call a `Tensor`:"
   ]
  },
  {
   "cell_type": "code",
   "execution_count": 115,
   "id": "fdfa0e00-4a53-4e52-9d02-99f93e9e303e",
   "metadata": {},
   "outputs": [],
   "source": [
    "class Tensor:\n",
    "    \"\"\"\n",
    "    A number\n",
    "    \"\"\"\n",
    "\n",
    "    def __init__(self, value: float):\n",
    "        self.value = value"
   ]
  },
  {
   "cell_type": "markdown",
   "id": "7aa4ebb0-e1a0-4e1f-a5ed-5fa0b0ce62ba",
   "metadata": {},
   "source": [
    "Next we'll need some simple operations we want to perform: addition, subtraction and multiplication."
   ]
  },
  {
   "cell_type": "code",
   "execution_count": 116,
   "id": "c01dc061-c61f-4b3d-b70a-06129efd9fae",
   "metadata": {},
   "outputs": [],
   "source": [
    "def _add(a: Tensor, b: Tensor):\n",
    "    \"\"\"\n",
    "    Add two tensors\n",
    "    \"\"\"\n",
    "    return Tensor(a.value + b.value)\n",
    "\n",
    "\n",
    "def _sub(a: Tensor, b: Tensor):\n",
    "    \"\"\"\n",
    "    Subtract tensor b from tensor a\n",
    "    \"\"\"\n",
    "    return Tensor(a.value - b.value)\n",
    "\n",
    "\n",
    "def _mul(a: Tensor, b: Tensor):\n",
    "    \"\"\"\n",
    "    Multiply two tensors\n",
    "    \"\"\"\n",
    "    return Tensor(a.value * b.value)"
   ]
  },
  {
   "cell_type": "markdown",
   "id": "fade0f0f-988d-4f4f-a495-8f414f2381d9",
   "metadata": {},
   "source": [
    "We can use our operations as follows:"
   ]
  },
  {
   "cell_type": "code",
   "execution_count": 117,
   "id": "4007641b-ec4a-4cdb-9160-427bf0ec2b6f",
   "metadata": {},
   "outputs": [],
   "source": [
    "a = Tensor(3)\n",
    "b = Tensor(4)\n",
    "\n",
    "# This will raise an error if\n",
    "# we are incorrect\n",
    "assert _add(a, b).value == 7\n",
    "assert _sub(a, b).value == -1\n",
    "assert _mul(a, b).value == 12"
   ]
  },
  {
   "cell_type": "markdown",
   "id": "605f5529-fc6f-43a2-b299-eb25cbc0523f",
   "metadata": {},
   "source": [
    "## Scalar derivatives\n",
    "Before we start doing full matrix derivatives, lets start by figuring out the derivatives of scalars. The simplest of these is the derivative of a tensor with respect to (wrt) itself:\n",
    "$$\\frac{dx}{dx} = 1$$"
   ]
  },
  {
   "cell_type": "markdown",
   "id": "db267512-5932-411f-8204-b87d688c79d1",
   "metadata": {},
   "source": [
    "A more interesting case is the derivative of two tensors added together (note we are using partial derivatives because our function has multiple inputs):\n",
    "$$f(x, y) = x + y$$\n",
    "$$\\frac{\\partial f}{\\partial x} = 1$$\n",
    "$$\\frac{\\partial f}{\\partial y} = 1$$\n",
    "\n",
    "We can do a similar thing for multiplication\n",
    "\n",
    "|$f(x, y)$|$\\frac{\\partial f}{\\partial x}$|$\\frac{\\partial f}{\\partial y}$|\n",
    "|-|-|-|\n",
    "|$x + y$|$1$|$1$|\n",
    "|$x \\times y$|$y$|$x$|"
   ]
  },
  {
   "cell_type": "markdown",
   "id": "b3ed0850-456b-4127-b557-d7cf39524e47",
   "metadata": {},
   "source": [
    "This means that if we have a variable produced by one of our functions, we can differentiate it wrt one of its inputs. If we make a `Tensor` from an operation, we need to store the derivative function in the `Tensor`.\n",
    "\n",
    "We'll add two new attributes to our `Tensor`: `args` `derivatives` and `grad`. If the tensor is the output of an operation, then `args` will store the arguments to the operation and `derivatives` will store the derivatives wrt each input. If the tensor is an input to an operation, `grad` will store the dervative once we've actually calculated it."
   ]
  },
  {
   "cell_type": "code",
   "execution_count": 130,
   "id": "36f5546b-33a1-4808-be0d-77a898938066",
   "metadata": {},
   "outputs": [],
   "source": [
    "class Tensor:\n",
    "    \"\"\"\n",
    "    A number that can be differentiated\n",
    "    \"\"\"\n",
    "    # If the tensor was made by an operation, the operation arguments\n",
    "    # are stored in args\n",
    "    args: tuple[Tensor]\n",
    "    # If the tensor was made by an operation, the derivatives wrt\n",
    "    # operation inputs are stored in\n",
    "    derivatives: tuple[Tensor]\n",
    "    # The derivative we have calculated\n",
    "    grad: Optional[Tensor] | None = None\n",
    "\n",
    "    def __init__(self, value: float):\n",
    "        self.value = value"
   ]
  },
  {
   "cell_type": "markdown",
   "id": "befb4571-7c6f-4e07-8731-d511dff0667e",
   "metadata": {},
   "source": [
    "For example, if we have "
   ]
  },
  {
   "cell_type": "code",
   "execution_count": 119,
   "id": "ede7d7e3-b1c1-4f41-9657-316cbe0eee51",
   "metadata": {},
   "outputs": [],
   "source": [
    "a = Tensor(3)\n",
    "b = Tensor(4)\n",
    "\n",
    "output = _mul(a, b)"
   ]
  },
  {
   "cell_type": "markdown",
   "id": "1df49bf3-7c4f-414b-8582-d65c68ca6563",
   "metadata": {},
   "source": [
    "Then `output.args` and `output.derivates` should be equal to should be set to:\n",
    "\n",
    "```python\n",
    "output.args == (Tensor(3), Tensor(4))\n",
    "output.derivatives == (\n",
    "    b,  # derivative of output wrt a is b\n",
    "    a,  # derivative of output wrt b is a\n",
    ")\n",
    "```"
   ]
  },
  {
   "cell_type": "markdown",
   "id": "fd49ca9b-e27e-4400-9542-fa1912fd63fa",
   "metadata": {},
   "source": [
    "Once we have actually computed the derivatives, then the derivative of `output` wrt `a` will be stored in `a.grad` and should be equal to `b` (which is 4 in this case). \n",
    "\n",
    "We know that we've done everything right once these tests pass (after computing the derivatives):"
   ]
  },
  {
   "cell_type": "code",
   "execution_count": 120,
   "id": "8d86f1c3-9a65-4468-9089-20a6bf0691c7",
   "metadata": {},
   "outputs": [],
   "source": [
    "def test_can_differentiate_multiply_op():\n",
    "    a = Tensor(3)\n",
    "    b = Tensor(4)\n",
    "\n",
    "    output = _mul(a, b)\n",
    "    # TODO: differentiate here\n",
    "\n",
    "    assert output.args == (a, b)\n",
    "    assert output.derivatives == (b, a)\n",
    "    assert a.grad == b\n",
    "    assert b.grad == a"
   ]
  },
  {
   "cell_type": "markdown",
   "id": "92d07a1a-eae0-40b4-84d6-4e57b00f16f1",
   "metadata": {},
   "source": [
    "We're now able to modify our original operations to store the derivatives correctly"
   ]
  },
  {
   "cell_type": "code",
   "execution_count": 121,
   "id": "99f6cd69-55a0-485d-a169-bf7f32e16e21",
   "metadata": {},
   "outputs": [],
   "source": [
    "def _add(a: Tensor, b: Tensor):\n",
    "    \"\"\"\n",
    "    Add two tensors\n",
    "    \"\"\"\n",
    "    result = Tensor(a.value + b.value)\n",
    "    result.derivatives = (Tensor(1), Tensor(1))\n",
    "    result.args = (a, b)\n",
    "    return result\n",
    "\n",
    "\n",
    "def _sub(a: Tensor, b: Tensor):\n",
    "    \"\"\"\n",
    "    Subtract tensor b from a\n",
    "    \"\"\"\n",
    "    result = Tensor(a.value - b.value)\n",
    "    result.derivatives = (Tensor(1), Tensor(-1))\n",
    "    result.args = (a, b)\n",
    "    return result\n",
    "\n",
    "\n",
    "def _mul(a: Tensor, b: Tensor):\n",
    "    \"\"\"\n",
    "    Multiply two tensors\n",
    "    \"\"\"\n",
    "    result = Tensor(a.value * b.value)\n",
    "    result.derivatives = (b, a)\n",
    "    result.args = (a, b)\n",
    "    return result"
   ]
  },
  {
   "cell_type": "markdown",
   "id": "2ed01e92-17b5-4aba-8d32-0be2983466e1",
   "metadata": {},
   "source": [
    "We can now add a function to our `Tensor` that will actually calculate the derivatives for each of the function arguments. Pytorch calls this function `backward` so we'll do the same."
   ]
  },
  {
   "cell_type": "code",
   "execution_count": 131,
   "id": "3f0c4e1e-66e2-43e1-ae62-f029347369c8",
   "metadata": {},
   "outputs": [],
   "source": [
    "class Tensor:\n",
    "    \"\"\"\n",
    "    A number that can be differentiated\n",
    "    \"\"\"\n",
    "    # If the tensor was made by an operation, the operation arguments\n",
    "    # are stored in args\n",
    "    args: tuple[Tensor]\n",
    "    # If the tensor was made by an operation, the derivatives wrt\n",
    "    # operation inputs are stored in\n",
    "    derivatives: tuple[Tensor]\n",
    "    # The derivative we have calculated\n",
    "    grad: Optional[Tensor] | None = None\n",
    "\n",
    "    def __init__(self, value: float):\n",
    "        self.value = value\n",
    "\n",
    "    def backward(self):\n",
    "        if self.args is None or self.derivatives is None:\n",
    "            raise ValueError(\n",
    "                \"Cannot differentiate a Tensor that is not a function of other Tensors\"\n",
    "            )\n",
    "\n",
    "        for arg, derivative in zip(self.args, self.derivatives):\n",
    "            arg.grad = derivative"
   ]
  },
  {
   "cell_type": "markdown",
   "id": "bc72894d-3d9a-4dfa-aca3-b5b97e57c729",
   "metadata": {},
   "source": [
    "We can now run our tests and see if it works"
   ]
  },
  {
   "cell_type": "code",
   "execution_count": 132,
   "id": "77657e72-49ea-49a7-a8df-7edc6ad0278a",
   "metadata": {},
   "outputs": [],
   "source": [
    "a = Tensor(3)\n",
    "b = Tensor(4)\n",
    "\n",
    "output = _mul(a, b)\n",
    "output.backward()\n",
    "\n",
    "\n",
    "assert output.args == (a, b)\n",
    "assert output.derivatives[0] == b\n",
    "assert output.derivatives[1] == a\n",
    "assert a.grad == b\n",
    "assert b.grad == a"
   ]
  },
  {
   "cell_type": "markdown",
   "id": "fddf7959-2f69-497b-9a6c-0c31cb375e5c",
   "metadata": {},
   "source": [
    "So far so good, lets try nesting operations."
   ]
  },
  {
   "cell_type": "code",
   "execution_count": 135,
   "id": "0ea3288f-24db-4fa8-8a11-d9ea6dec2ffa",
   "metadata": {},
   "outputs": [
    {
     "ename": "AssertionError",
     "evalue": "None",
     "output_type": "error",
     "traceback": [
      "\u001b[0;31m---------------------------------------------------------------------------\u001b[0m",
      "\u001b[0;31mAssertionError\u001b[0m                            Traceback (most recent call last)",
      "Cell \u001b[0;32mIn[135], line 9\u001b[0m\n\u001b[1;32m      5\u001b[0m output_2 \u001b[38;5;241m=\u001b[39m _add(a, output_1)\n\u001b[1;32m      7\u001b[0m output_2\u001b[38;5;241m.\u001b[39mbackward()\n\u001b[0;32m----> 9\u001b[0m \u001b[38;5;28;01massert\u001b[39;00m b\u001b[38;5;241m.\u001b[39mgrad \u001b[38;5;241m==\u001b[39m a, b\u001b[38;5;241m.\u001b[39mgrad\n",
      "\u001b[0;31mAssertionError\u001b[0m: None"
     ]
    }
   ],
   "source": [
    "a = Tensor(3)\n",
    "b = Tensor(4)\n",
    "\n",
    "output_1 = _mul(a, b)\n",
    "output_2 = _add(a, output_1)\n",
    "\n",
    "output_2.backward()\n",
    "\n",
    "assert b.grad == a, b.grad"
   ]
  },
  {
   "cell_type": "markdown",
   "id": "c09a6438-a069-4616-99b4-e58b7b5ac183",
   "metadata": {},
   "source": [
    "Something has gone wrong. We should have got `a` as the derivative for `b` but we got `None` instead. Looking through the `.backward()` function, we can see that we can only handle single functions. To get this example working, we'll need to to calculate derivatives through multiple functions."
   ]
  },
  {
   "cell_type": "markdown",
   "id": "04b75711-af3e-446e-b2be-05fd55c00927",
   "metadata": {},
   "source": [
    "## Chaining Functions Together"
   ]
  },
  {
   "cell_type": "markdown",
   "id": "7377a549-58dd-4779-847e-461ff1300e90",
   "metadata": {},
   "source": [
    "To calculate derivates of nested functions, we can use another rule from calculus: The Chain Rule.\n",
    "\n",
    "For a variable $z$ generated by nested functions $f$ and $g$ such that\n",
    "$$z = f(g(x))$$\n",
    "\n",
    "Then the derivative of $z$ wrt $x$ is:\n",
    "$$\\frac{\\partial z}{\\partial x} = \\frac{\\partial f(u)}{\\partial u} \\frac{\\partial g(x)}{\\partial x}$$\n",
    "\n",
    "Here, $u$ is a kind of dummy variable.  $\\frac{\\partial f(u)}{\\partial u}$ means the derivative of $f$ wrt its input.\n",
    "\n",
    "For example, if \n",
    "\n",
    "$$f(x) = g(x)^2$$\n",
    "Then we can define $u=g(x)$ and rewrite $f$ in terms of u \n",
    "$$f(u) = u^2 \\implies \\frac{\\partial f(u)}{\\partial u} = 2u = 2 g(x)$$\n",
    "\n",
    "### Multiple Variables\n",
    "The chain rule works as you might expect for functions of multiple variables. When differentiating wrt a variable, we can treat the other variables as constant and differentiate as normal\n",
    "$$z = f(g(x), h(y))$$\n",
    "\n",
    "$$\\frac{\\partial z}{\\partial x} = \\frac{\\partial f(u)}{\\partial u} \\frac{\\partial g(x)}{\\partial x}$$\n",
    "$$\\frac{\\partial z}{\\partial y} = \\frac{\\partial f(u)}{\\partial u} \\frac{\\partial h(y)}{\\partial y}$$\n",
    "\n",
    "If we have different functions that take the same input, we differentiate each of them individually and then add them together\n",
    "\n",
    "$$z = f(g(x), h(x))$$\n",
    "\n",
    "We get\n",
    "$$\\frac{\\partial z}{\\partial x} = \\frac{\\partial f(u)}{\\partial u}\\frac{\\partial g(x)}{\\partial x} + \\frac{\\partial f(u)}{\\partial u}\\frac{\\partial h(x)}{\\partial x}$$\n",
    "\n",
    "### More than 2 functions\n",
    "If we chain 3 functions together, we still just multiply the derivatives for each function together:\n",
    "\n",
    "$$\\frac{\\partial z}{\\partial x} = \\frac{\\partial f(u)}{\\partial u} \\frac{\\partial g(x)}{\\partial x} = \\frac{\\partial f(u)}{\\partial u} \\frac{\\partial g(u)}{\\partial u}\\frac{\\partial h(x)}{\\partial x}$$\n",
    "\n",
    "And this generalises to any amount of nesting\n",
    "\n",
    "$$z = f_1(f_2(....f_{n-1}(f_n(x))...)) \\implies \\frac{\\partial z}{\\partial x} = \\frac{\\partial f_1(u)}{\\partial u}\\frac{\\partial f_2(u)}{\\partial u}...\\frac{\\partial f_{n-1}(u)}{\\partial u}\\frac{\\partial f_{n}(x)}{\\partial x}$$"
   ]
  },
  {
   "attachments": {},
   "cell_type": "markdown",
   "id": "65f9b9d4-0d9a-47bb-94d3-64c2dfe648eb",
   "metadata": {},
   "source": [
    "### A picture is worth a thousand equations\n",
    "As you probably noticed, the maths is starting to get quite dense. When we start working with neural networks, we can easily get 100s or 1000s of functions deep so to get a handle on things, we'll need a different strategy. Helpfully, there is one: turning it into a graph.\n",
    "\n",
    "We can start with some rules:\n",
    "\n",
    "> Variables are represented with circles and operations are represented with boxes\n",
    "\n",
    "<center>\n",
    "    <div>\n",
    "        <img src=\"images/variable_and_box.png\" width=\"400\"/></br>\n",
    "    </div>\n",
    "</center>\n",
    "\n",
    "\n",
    "> Inputs to an operation are represented with arrows that point to the operation box. Outputs point away.\n",
    "\n",
    "For example, here is the diagram for $z = mx$\n",
    "<center>\n",
    "    <div>\n",
    "        <img src=\"images/z_eq_mx.png\" width=\"300\"/></br>\n",
    "    </div>\n",
    "</center>\n",
    "\n",
    "And thats it! All of the equations we'll be working with can be represented graphically using these simple rules. To try it out, let's draw the diagram for a more complex formula:\n",
    "\n",
    "<center>\n",
    "    <div>\n",
    "        <img src=\"images/square_error.png\" width=\"500\"/></br>\n",
    "    </div>\n",
    "</center>\n",
    "\n",
    "This is an example of a structure called a graph (also called a network). Graphs have been studied in great detail and there are a lot of algorithms that operate on graphs so being able to turn our equations into graphs opens up a lot of options."
   ]
  },
  {
   "attachments": {},
   "cell_type": "markdown",
   "id": "03129971-5cdb-454e-829b-a3d5e017207b",
   "metadata": {},
   "source": [
    "The real power of these diagrams is that they can also help us with our derivatives. Take $y = mx + p = \\texttt{add}(p, \\texttt{mul}(m ,x))$. From before, we can find its derivatives by differentiating each operation wrt its inputs and multiplying the results together. In this case, we get:\n",
    "$$\\frac{\\partial y}{\\partial p} = \\frac{\\partial \\texttt{add}(u_1, u_2)}{\\partial u_1} = 1$$\n",
    "$$\\frac{\\partial y}{\\partial m} = \\frac{\\partial \\texttt{add}(u_1, u_2)}{\\partial u_2}\\frac{\\partial \\texttt{mul}(u_1, u_2)}{\\partial u_2} = (1)(x) = x$$\n",
    "$$\\frac{\\partial y}{\\partial x} = \\frac{\\partial \\texttt{add}(u_1, u_2)}{\\partial u_2}\\frac{\\partial \\texttt{mul}(u_1, u_2)}{\\partial u_1} = (1)(m) = m$$\n",
    "\n",
    "We can also graph it like this:\n",
    "\n",
    "<center>\n",
    "    <div>\n",
    "        <img src=\"images/y_eq_mx_plus_p_labelled.png\" width=\"300\"/></br>\n",
    "    </div>\n",
    "</center>\n",
    "\n",
    "If you imagine walking from $y$ to each of the inputs, you might notice a similarity between the edges you pass through and the equations above. If you walk from $y$ to $x$, you'll pass through `a->c->d`.  Similarly, if you walk from $y$ to $m$, you'll pass through `a->d->e`. Notice that both paths go through `c`, the edge coming out of `add` that corresponds to the input $u_2$ and that both equations also include the term $\\frac{\\partial \\texttt{add}(u_1, u_2)}{\\partial u_2}$. In fact, if I rename the edges as follows:\n",
    "\n",
    "<center>\n",
    "    <div>\n",
    "        <img src=\"images/y_eq_mx_plus_p_deriv.png\" width=\"300\"/></br>\n",
    "    </div>\n",
    "</center>\n",
    "\n",
    "We can see that going from $y$ to $x$, we pass through $1$, $\\frac{\\partial \\texttt{add}(u_1, u_2)}{\\partial u_2}$ and $\\frac{\\partial \\texttt{mul}(u_1, u_2)}{\\partial u_1}$. If we multiply these together, we get exactly $\\frac{\\partial \\texttt{add}(u_1, u_2)}{\\partial u_2}\\frac{\\partial \\texttt{mul}(u_1, u_2)}{\\partial u_1} = \\frac{\\partial y}{\\partial x}$!\n",
    "\n",
    "It turns out that this rule works in general:\n",
    "\n",
    "> If we have some operation $\\texttt{op}(u_1, u_2, ..., u_n)$, we should label the edge corresponding to input $u_i$ with $\\frac{\\partial \\texttt{op}(u_1, u_2, ..., u_n)}{\\partial u_i}$\n",
    "\n",
    "Then, if we want to find the derivative of the output node wrt any of the inputs,\n",
    "\n",
    "> The derivative of an output variable wrt one of the input variables can be found by traversing the graph from the output to the input and multiplying together the derivatives for every edge on the path\n",
    "\n",
    "To cover every edge case, there are some extra details\n",
    "\n",
    "> If a graph contains multiple paths from the output to an input, then the derivative is the sum of the products for each path\n",
    "\n",
    "This comes from the case we saw earlier where when we have different functions that have the same input we have to add their derivative chains together.\n",
    "\n",
    "> If an edge is not the input to any function, its derivative is 1\n",
    "\n",
    "This covers the edge that leads from the final operation to the output. You can think of the edge having the derivative $\\frac{\\partial y}{\\partial y}=1$\n",
    "\n",
    "And thats it! Lets try it out with $z = (x + c)x$:\n",
    "\n",
    "<center>\n",
    "    <div>\n",
    "        <img src=\"images/z_eq_xx_plus_xc.png\" width=\"300\"/></br>\n",
    "    </div>\n",
    "</center>\n",
    "\n",
    "To make the rules clear above, I drew the derivatives on each edge. Here however, because we know the input to each operation and the formula for the derivative wrt each of its inputs, we can plug in the values to calculate the actual value of each derivative. This means that all that remains is to multiply the right numbers together.\n",
    "\n",
    "We can get from $z$ to $x$ via the green path and the red path. Following these paths, we get:\n",
    "$$\\text{red path} = 1 \\times (x + c) = x + c$$\n",
    "Along the green path we get:\n",
    "$$\\text{green path} = 1 \\times x \\times 1 = x$$\n",
    "\n",
    "Adding these together, we get $(x+c) + x = 2x + c$\n",
    "\n",
    "If we work out the derivative algebraically:\n",
    "\n",
    "$$\\frac{\\partial z}{\\partial x} = \\frac{\\partial}{\\partial x}((x+c)x) = \\frac{\\partial}{\\partial x}(x^2 + cx) = \\frac{\\partial x^2}{\\partial x} + c\\frac{\\partial x}{\\partial x} = 2x + c$$\n",
    "\n",
    "We can see that it seems to work! (Calculating $\\frac{\\partial z}{\\partial c}$ is left as an exercise for the reader) \n",
    "\n",
    "To summarise, we have invented the following algorithm for calculating of a variable wrt its inputs:\n",
    "\n",
    "1. Turn the equation into a graph # TODO intro graphs\n",
    "2. Draw the appropriate derivatives on the arrows\n",
    "3. Find every path from the output to the input variable you care about\n",
    "4. Follow each path and multiply the derivatives you pass through\n",
    "5. Add together the results for each path\n",
    "\n",
    "We have an algorithm in pictures and words, lets turn it into code."
   ]
  },
  {
   "cell_type": "markdown",
   "id": "47989351-92e5-491c-a58a-b109c1d84f92",
   "metadata": {},
   "source": [
    "### The Algorithm™\n",
    "\n",
    "We have actually already converted our functions into graphs. If you recall earlier, when we generate a tensor from an operation, we recorded the arguments to the operation. This means the we have edges from the output tensor from and operation to the input tensors of the operation. \n",
    "\n",
    "We also stored the functions to calculate derivatives along each of these edges which means that we have also completed part 2 of our algorithm.\n",
    "\n",
    "This means that our next challenge is to find all paths from the tensor we want to differentiate to the input tensors that created it. Because none of our operations are self referential (outputs are never fed back in as inputs), and all of our edges have a direction, our graph of operations is a special type of graph called a directed acyclic graph or DAG. This means that we can find all paths to every parameter pretty easily with a Breadth First Search (or Depth First Search but BFS is better for an algorithm we'll run later).\n",
    "\n",
    "Lets recreate that giant diagram we made earlier. We can do this by first calculating $L$ from the inputs"
   ]
  },
  {
   "cell_type": "code",
   "execution_count": 13,
   "id": "05bfab9c-fea6-40cb-bcd2-0c60a7f1950c",
   "metadata": {},
   "outputs": [],
   "source": [
    "y = Tensor(1)\n",
    "m = Tensor(2)\n",
    "x = Tensor(3)\n",
    "c = Tensor(4)\n",
    "\n",
    "# L = (y - (mx + c))^2\n",
    "left = _sub(y, _add(_mul(m, x), c))\n",
    "right = _sub(y, _add(_mul(m, x), c))\n",
    "\n",
    "L = _mul(left, right)\n",
    "\n",
    "# Attaching names to tensors will make our\n",
    "# picture look nicer\n",
    "y.name = \"y\"\n",
    "m.name = \"m\"\n",
    "x.name = \"x\"\n",
    "c.name = \"c\"\n",
    "L.name = \"L\""
   ]
  },
  {
   "cell_type": "markdown",
   "id": "795a7000-73ef-45dc-b2e0-b76da641ae4d",
   "metadata": {},
   "source": [
    "And then using Breadth First Search to do 3 things:\n",
    " - Find all nodes\n",
    " - Find all edges\n",
    " - Find all paths from $L$ to our parameters"
   ]
  },
  {
   "cell_type": "code",
   "execution_count": 14,
   "id": "6e20bfa5-4ebe-4ff3-a98c-94f5e099c589",
   "metadata": {},
   "outputs": [],
   "source": [
    "edges = []\n",
    "\n",
    "stack = [(L, [L])]\n",
    "\n",
    "# the \n",
    "node_hashes\n",
    "nodes = []\n",
    "edges = []\n",
    "while stack:\n",
    "    node, current_path = stack.pop()\n",
    "    # Record nodes we havent seen before\n",
    "    if hash(node) not in [hash(n) for n in nodes]:\n",
    "        nodes.append(node)\n",
    "\n",
    "    # if we have reached a parameter (it has no arguments\n",
    "    # because it wasn't created by an operation) then\n",
    "    # record the path taken to get here\n",
    "    if not node.args:\n",
    "        if not hasattr(node, \"paths\"):\n",
    "            node.paths = []\n",
    "        node.paths.append(current_path)\n",
    "        continue\n",
    "\n",
    "    for arg in node.args:\n",
    "        stack.append((arg, current_path + [arg]))\n",
    "        # Record every new edge\n",
    "        edges.append((hash(node), hash(arg)))"
   ]
  },
  {
   "cell_type": "markdown",
   "id": "13c5a96e-9485-4fa7-b19a-54f4bf76f4c3",
   "metadata": {},
   "source": [
    "Now we've got all of the edges and nodes, we have complete knowledge of our computational graph. This is all we need algorithmically but lets also use a graphing library to visualise it so we understand what is going on."
   ]
  },
  {
   "cell_type": "code",
   "execution_count": 15,
   "id": "5f73c63a-2e9f-425f-b4a5-52604bcbb3e5",
   "metadata": {},
   "outputs": [
    {
     "name": "stderr",
     "output_type": "stream",
     "text": [
      "/var/folders/5j/tq3_y7t11b9gmgwyjyl9v1dm0000gn/T/ipykernel_91643/980730084.py:16: DeprecationWarning: nx.nx_pydot.graphviz_layout depends on the pydot package, which has known issues and is not actively maintained. Consider using nx.nx_agraph.graphviz_layout instead.\n",
      "\n",
      "See https://github.com/networkx/networkx/issues/5723\n",
      "  pos = graphviz_layout(graph, prog=\"dot\")\n"
     ]
    },
    {
     "data": {
      "image/png": "[encoded data removed]",
      "text/plain": [
       "<Figure size 640x480 with 1 Axes>"
      ]
     },
     "metadata": {},
     "output_type": "display_data"
    }
   ],
   "source": [
    "import networkx as nx\n",
    "from networkx.drawing.nx_pydot import graphviz_layout\n",
    "\n",
    "# Assign a unique integer to each\n",
    "# unnamed node so we know which\n",
    "# node is which in the picture\n",
    "labels = {}\n",
    "for i, node in enumerate(nodes):\n",
    "    if hasattr(node, \"name\"):\n",
    "        labels[hash(node)] = node.name\n",
    "    else:\n",
    "        labels[hash(node)] = str(i)\n",
    "\n",
    "graph = nx.DiGraph()\n",
    "graph.add_edges_from(edges)\n",
    "pos = graphviz_layout(graph, prog=\"dot\")\n",
    "nx.draw(graph, pos=pos, labels=labels)"
   ]
  },
  {
   "cell_type": "markdown",
   "id": "b073802e-1c64-48db-b061-13a392670f5f",
   "metadata": {},
   "source": [
    "If you squint a bit, you can see that this looks like to the graph we made earlier. Lets take a look at the paths the algorithm found from $L$ to $x$."
   ]
  },
  {
   "cell_type": "code",
   "execution_count": 16,
   "id": "a67d7912-82f1-4f39-82e4-bdb48cd6c789",
   "metadata": {},
   "outputs": [
    {
     "name": "stdout",
     "output_type": "stream",
     "text": [
      "L->1->2->4->x\n",
      "L->8->9->10->x\n"
     ]
    }
   ],
   "source": [
    "for path in x.paths:\n",
    "    steps = []\n",
    "    for step in path:\n",
    "        steps.append(labels[hash(step)])\n",
    "    print(\"->\".join(steps))"
   ]
  },
  {
   "cell_type": "markdown",
   "id": "a7a63f6c-b6fa-473c-8619-1a1753a6ce08",
   "metadata": {},
   "source": [
    "The paths look correct! All we need to do now is to modify the algorithm a bit to keep track of the derivatives along each path. The word derivative is quite long so lets copy pytorch and use the `grad` (short for gradient) instead."
   ]
  },
  {
   "cell_type": "code",
   "execution_count": 17,
   "id": "5b2da7af-68d6-4c06-92bb-4cec92fb6827",
   "metadata": {},
   "outputs": [],
   "source": [
    "edges = []\n",
    "\n",
    "stack = [(L, [L], [])]\n",
    "\n",
    "nodes = []\n",
    "edges = []\n",
    "while stack:\n",
    "    node, current_path, current_derivative = stack.pop()\n",
    "    # Record nodes we havent seen before\n",
    "    if hash(node) not in [hash(n) for n in nodes]:\n",
    "        nodes.append(node)\n",
    "\n",
    "    # if we have reached a parameter (it has no arguments\n",
    "    # because it wasn't created by an operation) then\n",
    "    # record the path taken to get here\n",
    "    if not node.args:\n",
    "        if not hasattr(node, \"paths\"):\n",
    "            node.paths = []\n",
    "        node.paths.append(current_path)\n",
    "        if not hasattr(node, \"grads\"):\n",
    "            node.grads = []\n",
    "        node.grads.append(current_derivative)\n",
    "        continue\n",
    "\n",
    "    for arg, op in zip(node.args, node.derivatives):\n",
    "        stack.append((arg, current_path + [arg], current_derivative + [op]))\n",
    "        # Record every new edge\n",
    "        edges.append((hash(node), hash(arg)))"
   ]
  },
  {
   "cell_type": "markdown",
   "id": "2684f59d-a029-4880-b6e0-9ab4ae0e22fc",
   "metadata": {},
   "source": [
    "Lets check if the derivatives were recorded correctly."
   ]
  },
  {
   "cell_type": "code",
   "execution_count": 18,
   "id": "89e9e4b0-440a-4eff-b1d0-259c8056f8a3",
   "metadata": {},
   "outputs": [
    {
     "data": {
      "text/plain": [
       "[[Tensor(-9), Tensor(-1), Tensor(1), Tensor(2)],\n",
       " [Tensor(-9), Tensor(-1), Tensor(1), Tensor(2)]]"
      ]
     },
     "execution_count": 18,
     "metadata": {},
     "output_type": "execute_result"
    }
   ],
   "source": [
    "x.grads"
   ]
  },
  {
   "cell_type": "markdown",
   "id": "4ffd896d-a1a6-4553-b96f-c177241b3888",
   "metadata": {},
   "source": [
    "Looks reasonable so far. We have 2 identical paths, each with 4 derivatives (one for each edge in the path) as expected.\n",
    "\n",
    "Lets multiply the derivatives together along each path and add the total for each path together and see if we get the right answer. According to wolfram alpha (and the peice of paper in front of me) the derivative of $L$ wrt $x$ is:\n",
    "$$\\frac{\\partial L}{\\partial x} = 2m (c + mx - y)$$\n",
    "Plugging the values for our tensors in, we get\n",
    "$$2\\times2 (4 + (2\\times3) - 1) = 36$$"
   ]
  },
  {
   "cell_type": "code",
   "execution_count": 19,
   "id": "8669ab24-e26a-4237-ac00-eafb375fde26",
   "metadata": {},
   "outputs": [
    {
     "data": {
      "text/plain": [
       "Tensor(36)"
      ]
     },
     "execution_count": 19,
     "metadata": {},
     "output_type": "execute_result"
    }
   ],
   "source": [
    "total_grad = Tensor(0)\n",
    "for chain in x.grads:\n",
    "    chain_total = Tensor(1)\n",
    "    for step in chain:\n",
    "        chain_total = _mul(chain_total, step)\n",
    "    total_grad = _add(total_grad, chain_total)\n",
    "\n",
    "total_grad"
   ]
  },
  {
   "cell_type": "markdown",
   "id": "25a5c68f-53b0-4c1e-9f58-61c3dc5ea249",
   "metadata": {},
   "source": [
    "The correct answer! It looks like our algorithm works. All that remains is to put it all together."
   ]
  },
  {
   "cell_type": "markdown",
   "id": "bccd2641-75e2-4bec-a69b-746bd22d87d4",
   "metadata": {},
   "source": [
    "## Putting it all together"
   ]
  },
  {
   "cell_type": "markdown",
   "id": "1a53aa75-1ec8-43fa-9a7c-66a6ee48a952",
   "metadata": {},
   "source": [
    "When dreaming up the algorithm, we kept a record of the nodes and edges we visited as well as the path we followed so we could plot them and check that everything was working. Now that we know that it works, we can remove these steps."
   ]
  },
  {
   "cell_type": "code",
   "execution_count": 20,
   "id": "25b8ca8c-aaf0-457e-bf65-6b45685ab100",
   "metadata": {},
   "outputs": [],
   "source": [
    "def backward(root_node: Tensor) -> None:\n",
    "    stack = [(root_node, [])]\n",
    "\n",
    "    while stack:\n",
    "        node, current_derivative = stack.pop()\n",
    "\n",
    "        # if we have reached a parameter (it has no arguments\n",
    "        # because it wasn't created by an operation) then\n",
    "        # record the path taken to get here\n",
    "        if not node.args:\n",
    "            if not hasattr(node, \"grads\"):\n",
    "                node.grads = []\n",
    "            node.grads.append(current_derivative)\n",
    "            continue\n",
    "\n",
    "        for arg, op in zip(node.args, node.derivatives):\n",
    "            stack.append((arg, current_derivative + [op]))"
   ]
  },
  {
   "cell_type": "markdown",
   "id": "51aee1b6-82e0-4441-820a-0f7ef555c109",
   "metadata": {},
   "source": [
    "There is also no need (for now) to store the derivatives and calculate them separately. Instead, we can avoid a bunch of repeated calculations by multiplying the derivatives as we go"
   ]
  },
  {
   "cell_type": "code",
   "execution_count": 21,
   "id": "d17c8473-81e1-4b32-9546-0a5e6263cea5",
   "metadata": {},
   "outputs": [],
   "source": [
    "def backward(root_node: Tensor) -> None:\n",
    "    stack = [(root_node, Tensor(1))]\n",
    "\n",
    "    while stack:\n",
    "        node, current_derivative = stack.pop()\n",
    "\n",
    "        # if we have reached a parameter (it has no arguments\n",
    "        # because it wasn't created by an operation) then add the\n",
    "        # derivative\n",
    "        if not node.args:\n",
    "            if not hasattr(node, \"grad\") or node.grad is None:\n",
    "                node.grad = Tensor(0)\n",
    "            node.grad = _add(node.grad, current_derivative)\n",
    "            continue\n",
    "\n",
    "        for arg, derivative in zip(node.args, node.derivatives):\n",
    "            stack.append((arg, _mul(current_derivative, derivative)))"
   ]
  },
  {
   "cell_type": "code",
   "execution_count": 22,
   "id": "649b4b51-fc57-4ee3-88e6-8174b1b3f8f5",
   "metadata": {},
   "outputs": [],
   "source": [
    "# Make sure our algorithm still gives the right answer\n",
    "y = Tensor(1)\n",
    "m = Tensor(2)\n",
    "x = Tensor(3)\n",
    "c = Tensor(4)\n",
    "\n",
    "left = _sub(y, _add(_mul(m, x), c))\n",
    "right = _sub(y, _add(_mul(m, x), c))\n",
    "\n",
    "L = _mul(left, right)\n",
    "backward(L)\n",
    "\n",
    "assert x.grad == Tensor(36), x.grad"
   ]
  },
  {
   "cell_type": "markdown",
   "id": "3838b824-be6e-46a1-a910-61410b40f092",
   "metadata": {},
   "source": [
    "To make the a bit easier to use, lets put this in our Tensor object"
   ]
  },
  {
   "cell_type": "code",
   "execution_count": 23,
   "id": "86c85971-3c20-4ac7-af0f-f8103941662a",
   "metadata": {},
   "outputs": [],
   "source": [
    "class Tensor:\n",
    "    \"\"\"\n",
    "    A float that can be differentiated\n",
    "    \"\"\"\n",
    "\n",
    "    args: tuple[\"Tensor\"] = ()\n",
    "    derivatives: tuple[\"Tensor\"] | None = None\n",
    "    # The derivative (once we've calculated it). This is None if the derivative\n",
    "    # has not been computed yet\n",
    "    grad: Optional[\"Tensor\"] = None\n",
    "\n",
    "    def __init__(self, value: float):\n",
    "        self.value = value\n",
    "\n",
    "    def __repr__(self) -> str:\n",
    "        return f\"Tensor({self.value.__repr__()})\"\n",
    "\n",
    "    def backward(self):\n",
    "        if self.args is None or self.derivatives is None:\n",
    "            raise ValueError(\n",
    "                \"Cannot differentiate a Tensor that is not a function of other Tensors\"\n",
    "            )\n",
    "\n",
    "        stack = [(self, Tensor(1))]\n",
    "\n",
    "        while stack:\n",
    "            node, current_derivative = stack.pop()\n",
    "\n",
    "            # if we have reached a parameter (it has no arguments\n",
    "            # because it wasn't created by an operation) then add the\n",
    "            # derivative\n",
    "            if not node.args:\n",
    "                if not hasattr(node, \"grad\") or node.grad is None:\n",
    "                    node.grad = Tensor(0)\n",
    "                node.grad = _add(node.grad, current_derivative)\n",
    "                continue\n",
    "\n",
    "            for arg, derivative in zip(node.args, node.derivatives):\n",
    "                new_derivative = _mul(current_derivative, derivative)\n",
    "                stack.append((arg, new_derivative))"
   ]
  },
  {
   "cell_type": "markdown",
   "id": "2153e1eb-6f6d-4c5e-8268-3b5718c068d1",
   "metadata": {},
   "source": [
    "Lets try it out"
   ]
  },
  {
   "cell_type": "code",
   "execution_count": 24,
   "id": "81e7bfb7-409d-4bd6-9117-de3508b045fd",
   "metadata": {},
   "outputs": [],
   "source": [
    "y = Tensor(1)\n",
    "m = Tensor(2)\n",
    "x = Tensor(3)\n",
    "c = Tensor(4)\n",
    "\n",
    "left = _sub(y, _add(_mul(m, x), c))\n",
    "right = _sub(y, _add(_mul(m, x), c))\n",
    "\n",
    "L = _mul(left, right)\n",
    "L.backward()\n",
    "\n",
    "assert x.grad.value == Tensor(36).value, x.grad"
   ]
  },
  {
   "cell_type": "markdown",
   "id": "3f65736c-cb4f-4670-a7b7-f7c6f6eb0f1f",
   "metadata": {},
   "source": [
    "I don't know about you, but I think that all of these `_add` and `_mul` functions everywhere aren't exactly ergonomic. We can fix this by adding some special functions to our tensor. The simplest of these is `__eq__` that will let us compare two tensors. "
   ]
  },
  {
   "cell_type": "code",
   "execution_count": 25,
   "id": "47493b62-ef61-4aad-a85e-30e90e8aca69",
   "metadata": {},
   "outputs": [],
   "source": [
    "def __eq__(self, other) -> bool:\n",
    "    if not isinstance(other, \"Tensor\"):\n",
    "        raise TypeError(f\"Cannot compare a Tensor with a {type(other)}\")\n",
    "    return self.value == other.value"
   ]
  },
  {
   "cell_type": "markdown",
   "id": "9462f1e7-07e4-4e97-a97b-571d10113dde",
   "metadata": {},
   "source": [
    "Next, can also add `__add__`, `__sub__` and `__mul__` methods to allow us to use the `+`, `-` and `*` operators respectively."
   ]
  },
  {
   "cell_type": "code",
   "execution_count": 26,
   "id": "dbb36357-9989-4d1c-aed9-1bb5812a4ce5",
   "metadata": {},
   "outputs": [],
   "source": [
    "def __add__(self, other) -> \"Tensor\":\n",
    "    if not isinstance(other, \"Tensor\"):\n",
    "        raise TypeError(f\"Cannot add a Tensor to a {type(other)}\")\n",
    "    return _add(self, other)\n",
    "\n",
    "\n",
    "def __sub__(self, other) -> \"Tensor\":\n",
    "    if not isinstance(other, \"Tensor\"):\n",
    "        raise TypeError(f\"Cannot subtract a Tensor from a {type(other)}\")\n",
    "    return _sub(self, other)\n",
    "\n",
    "\n",
    "def __mul__(self, other) -> \"Tensor\":\n",
    "    if not isinstance(other, \"Tensor\"):\n",
    "        raise TypeError(f\"Cannot multiply a Tensor with a {type(other)}\")\n",
    "    return _mul(self, other)"
   ]
  },
  {
   "cell_type": "markdown",
   "id": "187c7632-30dc-4f64-9a85-181dcb6cde8a",
   "metadata": {},
   "source": [
    "Finally, we can add the `__iadd__`, `__isub__` and `__imul__` methods to allow us to use `+=`, `-=` and `*=`."
   ]
  },
  {
   "cell_type": "code",
   "execution_count": 27,
   "id": "14cde419-8362-4b56-a20d-f78520eea203",
   "metadata": {},
   "outputs": [],
   "source": [
    "def __iadd__(self, other) -> \"Tensor\":\n",
    "    self = self.__add__(self, other)\n",
    "    return self\n",
    "\n",
    "\n",
    "def __isub__(self, other) -> \"Tensor\":\n",
    "    self = self.__sub__(self, other)\n",
    "    return self\n",
    "\n",
    "\n",
    "def __imul__(self, other) -> \"Tensor\":\n",
    "    self = self.__mul__(self, other)\n",
    "    return self"
   ]
  },
  {
   "cell_type": "markdown",
   "id": "6afcddcc-87c9-4706-bc70-fb64364374bc",
   "metadata": {},
   "source": [
    "These let us clean up our backward function a bit"
   ]
  },
  {
   "cell_type": "code",
   "execution_count": 28,
   "id": "0dd09c8a-be39-4cb6-a512-d679021c4f65",
   "metadata": {},
   "outputs": [],
   "source": [
    "def backward(self):\n",
    "    if self.args is None or self.derivatives is None:\n",
    "        raise ValueError(\n",
    "            \"Cannot differentiate a Tensor that is not a function of other Tensors\"\n",
    "        )\n",
    "\n",
    "    stack = [(self, Tensor(1))]\n",
    "\n",
    "    while stack:\n",
    "        node, current_derivative = stack.pop()\n",
    "\n",
    "        # if we have reached a parameter (it has no arguments\n",
    "        # because it wasn't created by an operation) then add the\n",
    "        # derivative\n",
    "        if not node.args:\n",
    "            if not hasattr(node, \"grad\") or node.grad is None:\n",
    "                node.grad = Tensor(0)\n",
    "            node.grad += current_derivative\n",
    "            continue\n",
    "\n",
    "        for arg, derivative in zip(node.args, node.derivatives):\n",
    "            stack.append((arg, current_derivative * derivative))"
   ]
  },
  {
   "cell_type": "markdown",
   "id": "0a094a35-068e-4ee5-b713-def28021e1f7",
   "metadata": {},
   "source": [
    "Putting all of these together, we get a final `Tensor` object as follows:"
   ]
  },
  {
   "cell_type": "code",
   "execution_count": 29,
   "id": "4056ce06-2478-4cf8-9054-0b905e26974b",
   "metadata": {},
   "outputs": [],
   "source": [
    "class Tensor:\n",
    "    \"\"\"\n",
    "    A float that can be differentiated\n",
    "    \"\"\"\n",
    "\n",
    "    args: tuple[\"Tensor\"] = ()\n",
    "    derivatives: tuple[\"Tensor\"] | None = None\n",
    "    # The derivative (once we've calculated it). This is None if the derivative\n",
    "    # has not been computed yet\n",
    "    grad: Optional[\"Tensor\"] = None\n",
    "\n",
    "    def __init__(self, value: float):\n",
    "        self.value = value\n",
    "\n",
    "    def __repr__(self) -> str:\n",
    "        return f\"Tensor({self.value.__repr__()})\"\n",
    "\n",
    "    def __eq__(self, other) -> bool:\n",
    "        if not isinstance(other, Tensor):\n",
    "            raise TypeError(f\"Cannot compare a Tensor with a {type(other)}\")\n",
    "        return self.value == other.value\n",
    "\n",
    "    def __add__(self, other) -> \"Tensor\":\n",
    "        if not isinstance(other, Tensor):\n",
    "            raise TypeError(f\"Cannot add a Tensor to a {type(other)}\")\n",
    "        return _add(self, other)\n",
    "\n",
    "    def __sub__(self, other) -> \"Tensor\":\n",
    "        if not isinstance(other, Tensor):\n",
    "            raise TypeError(f\"Cannot subtract a Tensor from a {type(other)}\")\n",
    "        return _sub(self, other)\n",
    "\n",
    "    def __mul__(self, other) -> \"Tensor\":\n",
    "        if not isinstance(other, Tensor):\n",
    "            raise TypeError(f\"Cannot multiply a Tensor with a {type(other)}\")\n",
    "        return _mul(self, other)\n",
    "\n",
    "    def __iadd__(self, other) -> \"Tensor\":\n",
    "        return self.__add__(other)\n",
    "\n",
    "    def __isub__(self, other) -> \"Tensor\":\n",
    "        return self.__sub__(other)\n",
    "\n",
    "    def __imul__(self, other) -> \"Tensor\":\n",
    "        return self.__mul__(other)\n",
    "\n",
    "    def backward(self):\n",
    "        if self.args is None or self.derivatives is None:\n",
    "            raise ValueError(\n",
    "                \"Cannot differentiate a Tensor that is not a function of other Tensors\"\n",
    "            )\n",
    "\n",
    "        stack = [(self, Tensor(1))]\n",
    "\n",
    "        while stack:\n",
    "            node, current_derivative = stack.pop()\n",
    "\n",
    "            # if we have reached a parameter (it has no arguments\n",
    "            # because it wasn't created by an operation) then add the\n",
    "            # derivative\n",
    "            if not node.args:\n",
    "                if not hasattr(node, \"grad\") or node.grad is None:\n",
    "                    node.grad = Tensor(0)\n",
    "                node.grad += current_derivative\n",
    "                continue\n",
    "\n",
    "            for arg, derivative in zip(node.args, node.derivatives):\n",
    "                stack.append((arg, current_derivative * derivative))"
   ]
  },
  {
   "cell_type": "markdown",
   "id": "e21ec88d-b648-4105-8ac1-d20f6f494352",
   "metadata": {},
   "source": [
    "Lets take it for a spin. We'll try calculating $L$ again"
   ]
  },
  {
   "cell_type": "code",
   "execution_count": 30,
   "id": "bf48a95a-023f-452c-ae95-61d68bea6715",
   "metadata": {},
   "outputs": [],
   "source": [
    "y = Tensor(1)\n",
    "m = Tensor(2)\n",
    "x = Tensor(3)\n",
    "c = Tensor(4)\n",
    "\n",
    "diff = y - ((m * x) + c)\n",
    "L = diff * diff\n",
    "L.backward()\n",
    "\n",
    "assert x.grad == Tensor(36)"
   ]
  },
  {
   "cell_type": "markdown",
   "id": "8f1f0fc2-a75c-42f6-b7aa-2c0b1f96ba88",
   "metadata": {},
   "source": [
    "Much easier!"
   ]
  },
  {
   "cell_type": "markdown",
   "id": "60d91bad-9566-4ee7-ba87-624be7414a27",
   "metadata": {},
   "source": [
    "To really see what this baby can do, I asked chatgpt for the most complicated expression it could think of and it gave me this:\n",
    "\n",
    "$$f(x) = (2x^3 + 4x^2 - 5x) \\times (3x^2 - 2x + 7) - (6x^4 + 2x^3 - 8x^2) + (5x^2 - 3x)$$\n",
    "According to wolfram alpha, the derivative of this expression is:\n",
    "$$\\frac{d f(x)}{dx} = -38 + 102 x - 33 x^2 + 8 x^3 + 30 x^4$$\n",
    "\n",
    "If we plug 2 into this equation, the answer is apparently 578.\n",
    "\n",
    "Lets try it with our algorithm"
   ]
  },
  {
   "cell_type": "code",
   "execution_count": 89,
   "id": "57c78815-ac11-43ca-8339-a05616c6af56",
   "metadata": {},
   "outputs": [],
   "source": [
    "x = Tensor(2)\n",
    "\n",
    "y = (\n",
    "    (Tensor(2) * x * x * x + Tensor(4) * x * x - Tensor(5) * x)\n",
    "    * (Tensor(3) * x * x - Tensor(2) * x + Tensor(7))\n",
    "    - (Tensor(6) * x * x * x * x + Tensor(2) * x * x * x - Tensor(8) * x * x)\n",
    "    + (Tensor(5) * x * x - Tensor(3) * x)\n",
    ")\n",
    "\n",
    "y.backward()\n",
    "\n",
    "assert x.grad == Tensor(578)"
   ]
  },
  {
   "cell_type": "markdown",
   "id": "4efbe6d8-5d40-418d-9984-8de2e2088f3a",
   "metadata": {},
   "source": [
    "Once again, we got the right answer!"
   ]
  },
  {
   "cell_type": "markdown",
   "id": "28485da0-203f-4a46-839e-8cc3be98e539",
   "metadata": {},
   "source": [
    "# Conclusion\n",
    "From nothing, we have now written an algorithm that will let us differentiate any mathematical expression (provided it only involves addition, subtraction and multiplication). We did this by converting our expression into a graph and reimagining partial derivatives as operations on the edges of that graph. Then we found that could apply Breadth First Search to combine all the derivatives together to get a final answer.\n",
    "\n",
    "Now that we have a library that can differentiate simple expressions, the next logical question is whether we can make it any better and the answer is yes we can. In the next post, we'll figure out how to extend our algorithm to vectors and matrices and we'll use that knowledge to build up to a functioning neural network."
   ]
  }
 ],
 "metadata": {
  "kernelspec": {
   "display_name": "Python 3 (ipykernel)",
   "language": "python",
   "name": "python3"
  },
  "language_info": {
   "codemirror_mode": {
    "name": "ipython",
    "version": 3
   },
   "file_extension": ".py",
   "mimetype": "text/x-python",
   "name": "python",
   "nbconvert_exporter": "python",
   "pygments_lexer": "ipython3",
   "version": "3.11.6"
  }
 },
 "nbformat": 4,
 "nbformat_minor": 5
}
